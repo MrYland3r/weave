{
 "cells": [
  {
   "cell_type": "markdown",
   "metadata": {},
   "source": [
    "# Advanced Text Noising with Weave\n",
    "\n",
    "This notebook demonstrates the advanced noising capabilities of the Weave framework."
   ]
  },
  {
   "cell_type": "code",
   "execution_count": null,
   "metadata": {},
   "source": [
    "from weave.llms import OpenAILLM\n",
    "from weave.noisers import (\n",
    "    StyleTransferNoiser,\n",
    "    LanguageNoiser,\n",
    "    DomainErrorNoiser,\n",
    "    SentimentNoiser,\n",
    "    ContextNoiser\n",
    ")\n",
    "\n",
    "# Initialize LLM\n",
    "llm = OpenAILLM(\n",
    "    model=\"gpt-4o-mini\",\n",
    "    api_key=\"your-api-key\"  # or use environment variable\n",
    ")"
   ]
  },
  {
   "cell_type": "markdown",
   "metadata": {},
   "source": [
    "## 1. Style Transfer\n",
    "\n",
    "Transform text to match different writing styles."
   ]
  },
  {
   "cell_type": "code",
   "execution_count": null,
   "metadata": {},
   "source": [
    "style_noiser = StyleTransferNoiser(\n",
    "    model_connector=llm,\n",
    "    style_config={\n",
    "        \"style\": \"technical\",\n",
    "        \"temperature\": 0.7\n",
    "    }\n",
    ")\n",
    "\n",
    "text = \"The cat jumped over the fence.\"\n",
    "technical = style_noiser.augment(text)\n",
    "print(f\"Original: {text}\")\n",
    "print(f\"Technical: {technical}\")\n",
    "\n",
    "# Try different styles\n",
    "style_noiser.config[\"style\"] = \"creative\"\n",
    "creative = style_noiser.augment(text)\n",
    "print(f\"Creative: {creative}\")"
   ]
  },
  {
   "cell_type": "markdown",
   "metadata": {},
   "source": [
    "## 2. Language-Specific Noise\n",
    "\n",
    "Add language-specific errors and transformations."
   ]
  },
  {
   "cell_type": "code",
   "execution_count": null,
   "metadata": {},
   "source": [
    "lang_noiser = LanguageNoiser(\n",
    "    model_connector=llm,\n",
    "    language_config={\n",
    "        \"language\": \"en\",\n",
    "        \"error_types\": [\"grammar\", \"spelling\"],\n",
    "        \"error_rate\": 0.3\n",
    "    }\n",
    ")\n",
    "\n",
    "text = \"Please review the document carefully.\"\n",
    "noised = lang_noiser.augment(text)\n",
    "print(f\"Original: {text}\")\n",
    "print(f\"With errors: {noised}\")"
   ]
  },
  {
   "cell_type": "markdown",
   "metadata": {},
   "source": [
    "## 3. Domain-Specific Errors\n",
    "\n",
    "Introduce domain-specific errors and variations."
   ]
  },
  {
   "cell_type": "code",
   "execution_count": null,
   "metadata": {},
   "source": [
    "domain_noiser = DomainErrorNoiser(\n",
    "    model_connector=llm,\n",
    "    domain_config={\n",
    "        \"domain\": \"programming\",\n",
    "        \"error_categories\": [\"syntax\", \"logic\"],\n",
    "        \"error_rate\": 0.3\n",
    "    }\n",
    ")\n",
    "\n",
    "code = \"def calculate_average(numbers):\\n    return sum(numbers) / len(numbers)\"\n",
    "noised_code = domain_noiser.augment(code)\n",
    "print(f\"Original:\\n{code}\")\n",
    "print(f\"\\nWith errors:\\n{noised_code}\")"
   ]
  },
  {
   "cell_type": "markdown",
   "metadata": {},
   "source": [
    "## 4. Sentiment Transformation\n",
    "\n",
    "Adjust text sentiment and emotional tone."
   ]
  },
  {
   "cell_type": "code",
   "execution_count": null,
   "metadata": {},
   "source": [
    "sentiment_noiser = SentimentNoiser(\n",
    "    model_connector=llm,\n",
    "    sentiment_config={\n",
    "        \"target_sentiment\": \"positive\",\n",
    "        \"intensity\": 0.8\n",
    "    }\n",
    ")\n",
    "\n",
    "text = \"The service was okay, but could be better.\"\n",
    "positive = sentiment_noiser.augment(text)\n",
    "print(f\"Original: {text}\")\n",
    "print(f\"Positive: {positive}\")\n",
    "\n",
    "# Try negative sentiment\n",
    "sentiment_noiser.config[\"target_sentiment\"] = \"negative\"\n",
    "negative = sentiment_noiser.augment(text)\n",
    "print(f\"Negative: {negative}\")"
   ]
  },
  {
   "cell_type": "markdown",
   "metadata": {},
   "source": [
    "## 5. Context-Aware Transformation\n",
    "\n",
    "Transform text while maintaining contextual consistency."
   ]
  },
  {
   "cell_type": "code",
   "execution_count": null,
   "metadata": {},
   "source": [
    "context_noiser = ContextNoiser(\n",
    "    model_connector=llm,\n",
    "    context_config={\n",
    "        \"context_type\": \"conversation\",\n",
    "        \"window_sizes\": {\"conversation\": 3}\n",
    "    }\n",
    ")\n",
    "\n",
    "conversation = {\n",
    "    \"conversation_history\": [\n",
    "        {\"speaker\": \"user1\", \"text\": \"How's the weather today?\"},\n",
    "        {\"speaker\": \"user2\", \"text\": \"It's quite sunny!\"},\n",
    "    ],\n",
    "    \"speakers\": {\n",
    "        \"user1\": {\"name\": \"Alice\"},\n",
    "        \"user2\": {\"name\": \"Bob\"}\n",
    "    }\n",
    "}\n",
    "\n",
    "text = \"I think I'll go for a walk.\"\n",
    "contextual = context_noiser.augment(text, context=conversation)\n",
    "print(f\"Original: {text}\")\n",
    "print(f\"Contextual: {contextual}\")"
   ]
  }
 ],
 "metadata": {
  "kernelspec": {
   "display_name": "Python 3",
   "language": "python",
   "name": "python3"
  },
  "language_info": {
   "codemirror_mode": {
    "name": "ipython",
    "version": 3
   },
   "file_extension": ".py",
   "mimetype": "text/x-python",
   "name": "python",
   "nbconvert_exporter": "python",
   "pygments_lexer": "ipython3",
   "version": "3.8.0"
  }
 },
 "nbformat": 4,
 "nbformat_minor": 4
}
